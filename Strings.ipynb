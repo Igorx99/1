{
  "nbformat": 4,
  "nbformat_minor": 0,
  "metadata": {
    "colab": {
      "name": "Strings.ipynb",
      "provenance": [],
      "authorship_tag": "ABX9TyPGlHa3I46uCl2qdCRnw14h",
      "include_colab_link": true
    },
    "kernelspec": {
      "name": "python3",
      "display_name": "Python 3"
    },
    "language_info": {
      "name": "python"
    }
  },
  "cells": [
    {
      "cell_type": "markdown",
      "metadata": {
        "id": "view-in-github",
        "colab_type": "text"
      },
      "source": [
        "<a href=\"https://colab.research.google.com/github/Igorx99/1/blob/main/Strings.ipynb\" target=\"_parent\"><img src=\"https://colab.research.google.com/assets/colab-badge.svg\" alt=\"Open In Colab\"/></a>"
      ]
    },
    {
      "cell_type": "code",
      "metadata": {
        "colab": {
          "base_uri": "https://localhost:8080/"
        },
        "id": "eNv7jT1k21JZ",
        "outputId": "4eefbd90-6eca-4b68-c7b4-0be5d8ceeb5f"
      },
      "source": [
        "len(\"hello world\")\n"
      ],
      "execution_count": 8,
      "outputs": [
        {
          "output_type": "execute_result",
          "data": {
            "text/plain": [
              "11"
            ]
          },
          "metadata": {
            "tags": []
          },
          "execution_count": 8
        }
      ]
    },
    {
      "cell_type": "code",
      "metadata": {
        "colab": {
          "base_uri": "https://localhost:8080/"
        },
        "id": "H3q7sMdK3_yb",
        "outputId": "7c7dc261-3cd4-4cde-a52c-14c5eb878ceb"
      },
      "source": [
        "x=\"hello world\"\n",
        "print(x.find(\"w\"))\n",
        "print(x.find(\"d\"))"
      ],
      "execution_count": 13,
      "outputs": [
        {
          "output_type": "stream",
          "text": [
            "6\n",
            "10\n"
          ],
          "name": "stdout"
        }
      ]
    },
    {
      "cell_type": "code",
      "metadata": {
        "colab": {
          "base_uri": "https://localhost:8080/"
        },
        "id": "ZmM3blH54x1Z",
        "outputId": "8c3ff919-27e8-4ac7-f543-de54d6a2e79f"
      },
      "source": [
        "x = \"data science\"\n",
        "print(x.split(\"t\"))\n",
        "print(x.split(\"e\"))"
      ],
      "execution_count": 18,
      "outputs": [
        {
          "output_type": "stream",
          "text": [
            "['da', 'a science']\n",
            "['data sci', 'nc', '']\n"
          ],
          "name": "stdout"
        }
      ]
    },
    {
      "cell_type": "code",
      "metadata": {
        "colab": {
          "base_uri": "https://localhost:8080/"
        },
        "id": "rHvJ_eEA5Jqy",
        "outputId": "57bc232e-200c-40c0-f45d-dc3f10033ead"
      },
      "source": [
        "m = \"Hello world\"\n",
        "m0 = m[1:8]\n",
        "print(m0)"
      ],
      "execution_count": 23,
      "outputs": [
        {
          "output_type": "stream",
          "text": [
            "ello wo\n"
          ],
          "name": "stdout"
        }
      ]
    },
    {
      "cell_type": "code",
      "metadata": {
        "colab": {
          "base_uri": "https://localhost:8080/"
        },
        "id": "y0KDwBTh54qD",
        "outputId": "daadad6e-d9ae-4bac-f7f6-a4252def3859"
      },
      "source": [
        "a = \"xy\"\n",
        "b = \"zl\"\n",
        "c = a + b\n",
        "print(c)"
      ],
      "execution_count": 24,
      "outputs": [
        {
          "output_type": "stream",
          "text": [
            "xyzl\n"
          ],
          "name": "stdout"
        }
      ]
    }
  ]
}