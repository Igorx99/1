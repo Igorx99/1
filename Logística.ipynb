{
  "nbformat": 4,
  "nbformat_minor": 0,
  "metadata": {
    "colab": {
      "name": "Untitled48.ipynb",
      "provenance": [],
      "authorship_tag": "ABX9TyP8zhenxo9J0IrHbx8jVJLl",
      "include_colab_link": true
    },
    "kernelspec": {
      "name": "python3",
      "display_name": "Python 3"
    },
    "language_info": {
      "name": "python"
    }
  },
  "cells": [
    {
      "cell_type": "markdown",
      "metadata": {
        "id": "view-in-github",
        "colab_type": "text"
      },
      "source": [
        "<a href=\"https://colab.research.google.com/github/Igorx99/1/blob/main/Log%C3%ADstica.ipynb\" target=\"_parent\"><img src=\"https://colab.research.google.com/assets/colab-badge.svg\" alt=\"Open In Colab\"/></a>"
      ]
    },
    {
      "cell_type": "code",
      "execution_count": 9,
      "metadata": {
        "colab": {
          "base_uri": "https://localhost:8080/"
        },
        "id": "lfG7zeYoDyOZ",
        "outputId": "b3fbe252-8366-4c3b-ad4e-b7b112482e5b"
      },
      "outputs": [
        {
          "name": "stdout",
          "output_type": "stream",
          "text": [
            "Aguarde um momento, estamos mapeando sua geolocalização\n",
            "Escolha uma das opçoes abaixo\n",
            "Clique aqui ou digite base para explorar as opções disponiveis de viagens para sua cidade base: d\n",
            "Digite próximas para verificar viagens disponíveis perto de você: próximas\n"
          ]
        }
      ],
      "source": [
        "print(\"Aguarde um momento, estamos mapeando sua geolocalização\")\n",
        "print(\"Escolha uma das opçoes abaixo\")\n",
        "escolha = input(\"Clique aqui ou digite base para explorar as opções disponiveis de viagens para sua cidade base: \")\n",
        "if escolha=='base':\n",
        "  print(\"Você será direcionado para as opções até a sua cidade.\")\n",
        "  print(\"Carregamento de grãos\\nEmpresa:YARA BRASIL\\nCidade: Rio Grande\\n Valor Pago: R$ 1.200,00.\")\n",
        "  \n",
        "else:\n",
        "  escolha2= input(\"Digite próximas para verificar viagens disponíveis perto de você: \")\n"
      ]
    }
  ]
}