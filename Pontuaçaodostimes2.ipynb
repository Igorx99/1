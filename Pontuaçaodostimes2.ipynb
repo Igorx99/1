{
  "nbformat": 4,
  "nbformat_minor": 0,
  "metadata": {
    "colab": {
      "name": "Untitled21.ipynb",
      "provenance": [],
      "authorship_tag": "ABX9TyNnlzQRX3JWBqCLILbyJ/AQ",
      "include_colab_link": true
    },
    "kernelspec": {
      "name": "python3",
      "display_name": "Python 3"
    }
  },
  "cells": [
    {
      "cell_type": "markdown",
      "metadata": {
        "id": "view-in-github",
        "colab_type": "text"
      },
      "source": [
        "<a href=\"https://colab.research.google.com/github/Igorx99/1/blob/main/Pontua%C3%A7aodostimes2.ipynb\" target=\"_parent\"><img src=\"https://colab.research.google.com/assets/colab-badge.svg\" alt=\"Open In Colab\"/></a>"
      ]
    },
    {
      "cell_type": "code",
      "metadata": {
        "id": "fgOVz9Y7q_M5"
      },
      "source": [
        "a = int(input())\r\n",
        "b = int(input())\r\n",
        "\r\n",
        "\r\n",
        "if a>b:\r\n",
        "\tprint(\"Equipe A\")\r\n",
        "else:\r\n",
        "\tif a<b:\r\n",
        "\t\tprint(\"Equipe B\")\r\n",
        "\telse:\r\n",
        "\t\tprint(\"Empate\""
      ],
      "execution_count": null,
      "outputs": []
    }
  ]
}