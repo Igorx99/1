{
  "nbformat": 4,
  "nbformat_minor": 0,
  "metadata": {
    "colab": {
      "name": "Untitled20.ipynb",
      "provenance": [],
      "authorship_tag": "ABX9TyPNDIGoOv+KacjcHBNHILPe",
      "include_colab_link": true
    },
    "kernelspec": {
      "name": "python3",
      "display_name": "Python 3"
    }
  },
  "cells": [
    {
      "cell_type": "markdown",
      "metadata": {
        "id": "view-in-github",
        "colab_type": "text"
      },
      "source": [
        "<a href=\"https://colab.research.google.com/github/Igorx99/1/blob/main/Pontua%C3%A7%C3%A3odostimes20.ipynb\" target=\"_parent\"><img src=\"https://colab.research.google.com/assets/colab-badge.svg\" alt=\"Open In Colab\"/></a>"
      ]
    },
    {
      "cell_type": "code",
      "metadata": {
        "colab": {
          "base_uri": "https://localhost:8080/"
        },
        "id": "3xBeZyOgagxJ",
        "outputId": "1b510aa9-b163-47b4-8b78-4bb7d05b6c89"
      },
      "source": [
        "a = float (input(\"Informe a pontuação da equipe A\"))\r\n",
        "b = float (input(\"Informe a pontução da equipe B\"))\r\n",
        "if a>b:\r\n",
        "  print(\"A equipe A é a vencedora!\")\r\n",
        "if b>a:\r\n",
        "  print(\"A equipe B é a vencedora\")\r\n",
        "if a==b:\r\n",
        "  print(\"Empatou\")"
      ],
      "execution_count": 6,
      "outputs": [
        {
          "output_type": "stream",
          "text": [
            "Informe a pontuação da equipe A3\n",
            "Informe a pontução da equipe B1\n",
            "A equipe A é a vencedora!\n"
          ],
          "name": "stdout"
        }
      ]
    }
  ]
}