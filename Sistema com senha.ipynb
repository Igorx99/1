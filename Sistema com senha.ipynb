{
  "nbformat": 4,
  "nbformat_minor": 0,
  "metadata": {
    "colab": {
      "name": "Untitled12.ipynb",
      "provenance": [],
      "authorship_tag": "ABX9TyNOfh7zIAWoj5uqzUzmPGkH",
      "include_colab_link": true
    },
    "kernelspec": {
      "name": "python3",
      "display_name": "Python 3"
    }
  },
  "cells": [
    {
      "cell_type": "markdown",
      "metadata": {
        "id": "view-in-github",
        "colab_type": "text"
      },
      "source": [
        "<a href=\"https://colab.research.google.com/github/Igorx99/1/blob/main/Sistema%20com%20senha.ipynb\" target=\"_parent\"><img src=\"https://colab.research.google.com/assets/colab-badge.svg\" alt=\"Open In Colab\"/></a>"
      ]
    },
    {
      "cell_type": "code",
      "metadata": {
        "colab": {
          "base_uri": "https://localhost:8080/"
        },
        "id": "eaTDfKa499G2",
        "outputId": "a7f7fa06-23c5-48d1-ead7-1ca121d8a55c"
      },
      "source": [
        "c = input(\"Informe a senha do sistema\")\r\n",
        "if c==\"ENGMEC\" or c==\"IFRS\":\r\n",
        "  print(\"Sistema de segurança desabilitado.\")\r\n",
        "else:\r\n",
        "  print(\"Senha incorreta\")\r\n"
      ],
      "execution_count": 7,
      "outputs": [
        {
          "output_type": "stream",
          "text": [
            "Informe a senha do sistemaIFRS\n",
            "Sistema de segurança desabilitado.\n"
          ],
          "name": "stdout"
        }
      ]
    }
  ]
}