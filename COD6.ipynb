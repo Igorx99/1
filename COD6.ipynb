{
  "nbformat": 4,
  "nbformat_minor": 0,
  "metadata": {
    "colab": {
      "name": "Untitled6.ipynb",
      "provenance": [],
      "authorship_tag": "ABX9TyOcba6Hm4MrPfkHV4cV5xbI",
      "include_colab_link": true
    },
    "kernelspec": {
      "name": "python3",
      "display_name": "Python 3"
    }
  },
  "cells": [
    {
      "cell_type": "markdown",
      "metadata": {
        "id": "view-in-github",
        "colab_type": "text"
      },
      "source": [
        "<a href=\"https://colab.research.google.com/github/Igorx99/1/blob/main/COD6.ipynb\" target=\"_parent\"><img src=\"https://colab.research.google.com/assets/colab-badge.svg\" alt=\"Open In Colab\"/></a>"
      ]
    },
    {
      "cell_type": "code",
      "metadata": {
        "colab": {
          "base_uri": "https://localhost:8080/"
        },
        "id": "TmgXJmguxgra",
        "outputId": "db9f6f3a-02c0-48c4-953b-9f0b6f83408b"
      },
      "source": [
        "import math\r\n",
        "s1 =float(input(\"Coloque o valor da contribuição do sócio 1\"))\r\n",
        "s2 = float(input(\"Coloque o valor da Contribuição do sócio 2\"))\r\n",
        "s3 = float(input(\"Coloque o valor da contribuição do sócio 3\"))\r\n",
        "l = float(input(\"Coloque o valor do Lucro\"))\r\n",
        "t = s1+s2+s3\r\n",
        "p = l/t\r\n",
        "p1 = p*s1\r\n",
        "p2 = p*s2\r\n",
        "p3 = p*s3\r\n",
        "print(\"O valor da parte do sócio 1 é de R$\",p1)\r\n",
        "print(\"O valor da parte do sócio 2 é de R$\",p2)\r\n",
        "print(\"O valor da parte do sócio 3 é de R$\",p3)"
      ],
      "execution_count": 3,
      "outputs": [
        {
          "output_type": "stream",
          "text": [
            "Coloque o valor da contribuição do sócio 16000\n",
            "Coloque o valor da Contribuição do sócio 29000\n",
            "Coloque o valor da contribuição do sócio 312000\n",
            "Coloque o valor do Lucro540000\n",
            "O valor da parte do sócio 1 é de R$ 120000.0\n",
            "O valor da parte do sócio 2 é de R$ 180000.0\n",
            "O valor da parte do sócio 3 é de R$ 240000.0\n"
          ],
          "name": "stdout"
        }
      ]
    }
  ]
}