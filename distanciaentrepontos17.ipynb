{
  "nbformat": 4,
  "nbformat_minor": 0,
  "metadata": {
    "colab": {
      "name": "Untitled17.ipynb",
      "provenance": [],
      "authorship_tag": "ABX9TyNJojfP0cTgGr2B/LkhsSIq",
      "include_colab_link": true
    },
    "kernelspec": {
      "name": "python3",
      "display_name": "Python 3"
    }
  },
  "cells": [
    {
      "cell_type": "markdown",
      "metadata": {
        "id": "view-in-github",
        "colab_type": "text"
      },
      "source": [
        "<a href=\"https://colab.research.google.com/github/Igorx99/1/blob/main/distanciaentrepontos17.ipynb\" target=\"_parent\"><img src=\"https://colab.research.google.com/assets/colab-badge.svg\" alt=\"Open In Colab\"/></a>"
      ]
    },
    {
      "cell_type": "code",
      "metadata": {
        "colab": {
          "base_uri": "https://localhost:8080/"
        },
        "id": "xJb2NkPt3are",
        "outputId": "3f2f4f1a-e82f-4106-af6b-d62b515c04ee"
      },
      "source": [
        "x1 = float (input(\"Insira o valor de x do primeiro ponto:\"))\r\n",
        "y1 = float (input(\"Insira o valor de y do primeiro ponto:\"))\r\n",
        "x2 = float (input(\"Insira o valor de x do segundo ponto:\"))\r\n",
        "y2 = float (input(\"Insira o valor de y do segundo ponto:\"))\r\n",
        "d = ((x2-x1)+(y2-y1))**1/2\r\n",
        "print(\"A distância entre os pontos é de\",d)"
      ],
      "execution_count": 4,
      "outputs": [
        {
          "output_type": "stream",
          "text": [
            "Insira o valor de x do primeiro ponto:2\n",
            "Insira o valor de y do primeiro ponto:2\n",
            "Insira o valor de x do segundo ponto:4\n",
            "Insira o valor de y do segundo ponto:4\n",
            "A distância entre os pontos é de 2.0\n"
          ],
          "name": "stdout"
        }
      ]
    }
  ]
}