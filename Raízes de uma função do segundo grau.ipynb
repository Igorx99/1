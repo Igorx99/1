{
  "nbformat": 4,
  "nbformat_minor": 0,
  "metadata": {
    "colab": {
      "name": "Untitled8.ipynb",
      "provenance": [],
      "authorship_tag": "ABX9TyMHsg8MfCei3Bu7BxzH/So0",
      "include_colab_link": true
    },
    "kernelspec": {
      "name": "python3",
      "display_name": "Python 3"
    }
  },
  "cells": [
    {
      "cell_type": "markdown",
      "metadata": {
        "id": "view-in-github",
        "colab_type": "text"
      },
      "source": [
        "<a href=\"https://colab.research.google.com/github/Igorx99/1/blob/main/Ra%C3%ADzes%20de%20uma%20fun%C3%A7%C3%A3o%20do%20segundo%20grau.ipynb\" target=\"_parent\"><img src=\"https://colab.research.google.com/assets/colab-badge.svg\" alt=\"Open In Colab\"/></a>"
      ]
    },
    {
      "cell_type": "code",
      "metadata": {
        "colab": {
          "base_uri": "https://localhost:8080/"
        },
        "id": "ANZ8bUhOr3-9",
        "outputId": "d4148036-1afa-45e9-fb6f-296d7736db7f"
      },
      "source": [
        "\r\n",
        "a = float (input(\"Informe o valor do coeficiente a\"))\r\n",
        "b = float (input(\"Informe o valor do coeficiente b\"))\r\n",
        "c = float (input(\"Informe o valor do coeficiente c\"))\r\n",
        "d = b**2-4*a*c\r\n",
        "if d>=0:\r\n",
        "  x1 = (-b+d**(1/2))/(2*a)\r\n",
        "  x2 = (-b-d**(1/2))/(2*a)\r\n",
        "  print(\"O valor da primeira raíz é:\",x1)\r\n",
        "  print(\"O valor da segunda raíz é:\",x2)\r\n",
        "else:\r\n",
        "  print(\"Não possui raízes reais\")\r\n"
      ],
      "execution_count": 16,
      "outputs": [
        {
          "output_type": "stream",
          "text": [
            "Informe o valor do coeficiente a1\n",
            "Informe o valor do coeficiente b-8\n",
            "Informe o valor do coeficiente c12\n",
            "O valor da primeira raíz é: 6.0\n",
            "O valor da segunda raíz é: 2.0\n"
          ],
          "name": "stdout"
        }
      ]
    }
  ]
}