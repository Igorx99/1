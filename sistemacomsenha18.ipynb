{
  "nbformat": 4,
  "nbformat_minor": 0,
  "metadata": {
    "colab": {
      "name": "Untitled18.ipynb",
      "provenance": [],
      "authorship_tag": "ABX9TyPj3140RFGWpx0nZ8oBYrTa",
      "include_colab_link": true
    },
    "kernelspec": {
      "name": "python3",
      "display_name": "Python 3"
    }
  },
  "cells": [
    {
      "cell_type": "markdown",
      "metadata": {
        "id": "view-in-github",
        "colab_type": "text"
      },
      "source": [
        "<a href=\"https://colab.research.google.com/github/Igorx99/1/blob/main/sistemacomsenha18.ipynb\" target=\"_parent\"><img src=\"https://colab.research.google.com/assets/colab-badge.svg\" alt=\"Open In Colab\"/></a>"
      ]
    },
    {
      "cell_type": "code",
      "metadata": {
        "colab": {
          "base_uri": "https://localhost:8080/"
        },
        "id": "zvxEZYbS56yj",
        "outputId": "efe245e4-a018-4dcc-f479-e140104f2358"
      },
      "source": [
        "c = input(\"Informe a primeira senha do sistema\")\r\n",
        "c1 = input(\"Informe a segunda senha do sistema\")\r\n",
        "if c==\"ENGMEC\" and c1==\"IFRS\":\r\n",
        "  print(\"Sistema de segurança desabilitado.\")\r\n",
        "else:\r\n",
        "  print(\"Senha incorreta\")"
      ],
      "execution_count": 5,
      "outputs": [
        {
          "output_type": "stream",
          "text": [
            "Informe a primeira senha do sistemaE\n",
            "Informe a segunda senha do sistemaD\n",
            "Senha incorreta\n"
          ],
          "name": "stdout"
        }
      ]
    },
    {
      "cell_type": "code",
      "metadata": {
        "id": "8cy_Yc9O6z9K"
      },
      "source": [
        ""
      ],
      "execution_count": null,
      "outputs": []
    }
  ]
}