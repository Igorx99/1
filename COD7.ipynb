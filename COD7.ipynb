{
  "nbformat": 4,
  "nbformat_minor": 0,
  "metadata": {
    "colab": {
      "name": "Untitled7.ipynb",
      "provenance": [],
      "authorship_tag": "ABX9TyNfZw9T5ZZ9eXwZcZIE/e8C",
      "include_colab_link": true
    },
    "kernelspec": {
      "name": "python3",
      "display_name": "Python 3"
    }
  },
  "cells": [
    {
      "cell_type": "markdown",
      "metadata": {
        "id": "view-in-github",
        "colab_type": "text"
      },
      "source": [
        "<a href=\"https://colab.research.google.com/github/Igorx99/1/blob/main/COD7.ipynb\" target=\"_parent\"><img src=\"https://colab.research.google.com/assets/colab-badge.svg\" alt=\"Open In Colab\"/></a>"
      ]
    },
    {
      "cell_type": "code",
      "metadata": {
        "id": "pHONxOkH-gyV"
      },
      "source": [
        "import math\r\n",
        "c = float(input(\"Informe o valor da capital investido\"))\r\n",
        "i = float(input(\"Informe o valor da taxa ao mês\"))\r\n",
        "t = float(input(\"Informe o valor da taxa ao mês\"))\r\n",
        "j = c*i/100*t\r\n",
        "print(\"O valor final será de\",j)"
      ],
      "execution_count": null,
      "outputs": []
    }
  ]
}