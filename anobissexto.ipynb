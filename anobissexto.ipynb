{
  "nbformat": 4,
  "nbformat_minor": 0,
  "metadata": {
    "colab": {
      "name": "Untitled32.ipynb",
      "provenance": [],
      "authorship_tag": "ABX9TyMkyWWwkjD2RbXXJePu+VWj",
      "include_colab_link": true
    },
    "kernelspec": {
      "name": "python3",
      "display_name": "Python 3"
    }
  },
  "cells": [
    {
      "cell_type": "markdown",
      "metadata": {
        "id": "view-in-github",
        "colab_type": "text"
      },
      "source": [
        "<a href=\"https://colab.research.google.com/github/Igorx99/1/blob/main/anobissexto.ipynb\" target=\"_parent\"><img src=\"https://colab.research.google.com/assets/colab-badge.svg\" alt=\"Open In Colab\"/></a>"
      ]
    },
    {
      "cell_type": "code",
      "metadata": {
        "colab": {
          "base_uri": "https://localhost:8080/"
        },
        "id": "tYDWEMeVmH4X",
        "outputId": "fea2e146-3e5d-4073-f543-0927836fee12"
      },
      "source": [
        "# Mostrar quais anos são bissextos e quais não são dentro de um intervalo.\r\n",
        "inicio = int (input(\" Primeiro ano: \"))\r\n",
        "final = int (input(\" Último ano: \"))\r\n",
        "ano=inicio\r\n",
        "while ano<=final:\r\n",
        "    if ano%4==0 and ano%100!=0 or ano%400==0:\r\n",
        "        print( ano,\"é um ano bissexto.\")\r\n",
        "    else:\r\n",
        "        print( ano,\"não é bissexto.\")\r\n",
        "    ano=ano+1\r\n",
        "    "
      ],
      "execution_count": 7,
      "outputs": [
        {
          "output_type": "stream",
          "text": [
            " Primeiro ano: 2016\n",
            " Último ano: 2020\n",
            "2016 é um ano bissexto.\n",
            "2017 não é bissexto.\n",
            "2018 não é bissexto.\n",
            "2019 não é bissexto.\n",
            "2020 é um ano bissexto.\n"
          ],
          "name": "stdout"
        }
      ]
    }
  ]
}