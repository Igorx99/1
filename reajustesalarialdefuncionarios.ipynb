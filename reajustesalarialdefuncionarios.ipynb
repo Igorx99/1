{
  "nbformat": 4,
  "nbformat_minor": 0,
  "metadata": {
    "colab": {
      "name": "Untitled44.ipynb",
      "provenance": [],
      "authorship_tag": "ABX9TyOi8jneLlMexT7riTTFRgEw",
      "include_colab_link": true
    },
    "kernelspec": {
      "name": "python3",
      "display_name": "Python 3"
    },
    "language_info": {
      "name": "python"
    }
  },
  "cells": [
    {
      "cell_type": "markdown",
      "metadata": {
        "id": "view-in-github",
        "colab_type": "text"
      },
      "source": [
        "<a href=\"https://colab.research.google.com/github/Igorx99/1/blob/main/reajustesalarialdefuncionarios.ipynb\" target=\"_parent\"><img src=\"https://colab.research.google.com/assets/colab-badge.svg\" alt=\"Open In Colab\"/></a>"
      ]
    },
    {
      "cell_type": "code",
      "metadata": {
        "colab": {
          "base_uri": "https://localhost:8080/"
        },
        "id": "Qj54RCs8-E_A",
        "outputId": "9d67ed8d-182e-446e-8440-26832e4e5a17"
      },
      "source": [
        "n=20\n",
        "i=0\n",
        "g=0\n",
        "e=0\n",
        "c=0\n",
        "a=0\n",
        "while i<n:\n",
        "  \n",
        "  fun= input(\"Informe a função desempenhada: \")\n",
        "  sal= float (input(\"Informe o salário atual: \"))\n",
        "  if fun==\"gestor\":\n",
        "    sal= (sal*5)/100\n",
        "    g= g+1\n",
        "    print(\"O reajuste do gestor\",g,\"foi de R$\",sal)\n",
        "  elif fun==\"engenheiro\":\n",
        "    sal= (sal*10)/100\n",
        "    e=e+1\n",
        "    print(\"O reajuste do engenheiro\",e,\"foi de R$\",sal)\n",
        "  elif fun==\"técnico\":\n",
        "    sal= (sal*15)/100\n",
        "    c=c+1\n",
        "    print(\"O reajuste do técnico\",c,\"foi de R$\",sal)\n",
        "  elif fun==\"administrativo\":\n",
        "    sal= (sal*151)/100\n",
        "    a=a+1\n",
        "    print(\"O reajuste do administrativo\",a,\"foi de R$1\",sal)\n",
        "  else:\n",
        "    print(\"Função desconhecida.\")\n",
        "  i=i+1\n",
        "    \n",
        "\n",
        "\n",
        "  \n"
      ],
      "execution_count": 12,
      "outputs": [
        {
          "output_type": "stream",
          "text": [
            "Informe a função desempenhada: gestor\n",
            "Informe o salário atual: 2\n",
            "O reajuste do gestor 1 foi de R$ 0.1\n",
            "Informe a função desempenhada: gestor\n",
            "Informe o salário atual: 1\n",
            "O reajuste do gestor 2 foi de R$ 0.05\n",
            "Informe a função desempenhada: gestor\n",
            "Informe o salário atual: 2\n",
            "O reajuste do gestor 3 foi de R$ 0.1\n",
            "Informe a função desempenhada: gestor2\n",
            "Informe o salário atual: 3\n",
            "Função desconhecida.\n",
            "Informe a função desempenhada: gestor\n",
            "Informe o salário atual: 3\n",
            "O reajuste do gestor 4 foi de R$ 0.15\n",
            "Informe a função desempenhada: engenheiro\n",
            "Informe o salário atual: 3\n",
            "O reajuste do engenheiro 1 foi de R$ 0.3\n",
            "Informe a função desempenhada: engenheiro\n",
            "Informe o salário atual: 2\n",
            "O reajuste do engenheiro 2 foi de R$ 0.2\n",
            "Informe a função desempenhada: engenheiro\n",
            "Informe o salário atual: 3\n",
            "O reajuste do engenheiro 3 foi de R$ 0.3\n",
            "Informe a função desempenhada: engenheiro\n",
            "Informe o salário atual: 2\n",
            "O reajuste do engenheiro 4 foi de R$ 0.2\n",
            "Informe a função desempenhada: engenheiro\n",
            "Informe o salário atual: 4\n",
            "O reajuste do engenheiro 5 foi de R$ 0.4\n",
            "Informe a função desempenhada: técnico\n",
            "Informe o salário atual: 3\n",
            "O reajuste do técnico 1 foi de R$ 0.45\n",
            "Informe a função desempenhada: técnico\n",
            "Informe o salário atual: 3\n",
            "O reajuste do técnico 2 foi de R$ 0.45\n",
            "Informe a função desempenhada: técnico\n",
            "Informe o salário atual: 4\n",
            "O reajuste do técnico 3 foi de R$ 0.6\n",
            "Informe a função desempenhada: técnico\n",
            "Informe o salário atual: 4\n",
            "O reajuste do técnico 4 foi de R$ 0.6\n",
            "Informe a função desempenhada: técnico\n",
            "Informe o salário atual: 4\n",
            "O reajuste do técnico 5 foi de R$ 0.6\n",
            "Informe a função desempenhada: administrativo\n",
            "Informe o salário atual: 3\n",
            "O reajuste do administrativo 1 foi de R$1 4.53\n",
            "Informe a função desempenhada: administrativo\n",
            "Informe o salário atual: 2\n",
            "O reajuste do administrativo 2 foi de R$1 3.02\n",
            "Informe a função desempenhada: administrativo\n",
            "Informe o salário atual: 4\n",
            "O reajuste do administrativo 3 foi de R$1 6.04\n",
            "Informe a função desempenhada: administrativo\n",
            "Informe o salário atual: 5\n",
            "O reajuste do administrativo 4 foi de R$1 7.55\n",
            "Informe a função desempenhada: administrativo\n",
            "Informe o salário atual: 3\n",
            "O reajuste do administrativo 5 foi de R$1 4.53\n"
          ],
          "name": "stdout"
        }
      ]
    }
  ]
}