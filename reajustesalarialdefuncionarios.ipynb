{
  "nbformat": 4,
  "nbformat_minor": 0,
  "metadata": {
    "colab": {
      "name": "Untitled44.ipynb",
      "provenance": [],
      "authorship_tag": "ABX9TyMZzU6k8N0RVBXK9tIIdHjw",
      "include_colab_link": true
    },
    "kernelspec": {
      "name": "python3",
      "display_name": "Python 3"
    },
    "language_info": {
      "name": "python"
    }
  },
  "cells": [
    {
      "cell_type": "markdown",
      "metadata": {
        "id": "view-in-github",
        "colab_type": "text"
      },
      "source": [
        "<a href=\"https://colab.research.google.com/github/Igorx99/1/blob/main/reajustesalarialdefuncionarios.ipynb\" target=\"_parent\"><img src=\"https://colab.research.google.com/assets/colab-badge.svg\" alt=\"Open In Colab\"/></a>"
      ]
    },
    {
      "cell_type": "code",
      "metadata": {
        "id": "Qj54RCs8-E_A"
      },
      "source": [
        "n=20\n",
        "i=0\n",
        "g=0\n",
        "e=0\n",
        "c=0\n",
        "a=0\n",
        "while i<n:\n",
        "  \n",
        "  fun= input(\"Informe a função desempenhada: \")\n",
        "  sal= float (input(\"Informe o salário atual: \"))\n",
        "  if fun==\"gestor\":\n",
        "    sal= (sal*5)/100\n",
        "    g= g+1\n",
        "    print(\"O reajuste do gestor\",g,\"foi de R$\",sal)\n",
        "  elif fun==\"engenheiro\":\n",
        "    sal= (sal*10)/100\n",
        "    e=e+1\n",
        "    print(\"O reajuste do engenheiro\",e,\"foi de R$\",sal)\n",
        "  elif fun==\"técnico\":\n",
        "    sal= (sal*15)/100\n",
        "    c=c+1\n",
        "    print(\"O reajuste do técnico\",c,\"foi de R$\",sal)\n",
        "  elif fun==\"administrativo\":\n",
        "    sal= (sal*151)/100\n",
        "    a=a+1\n",
        "    print(\"O reajuste do administrativo\",a,\"foi de R$\",sal)\n",
        "  else:\n",
        "    print(\"Função desconhecida.\")\n",
        "  i=i+1\n",
        "    \n",
        "\n",
        "\n",
        "  \n"
      ],
      "execution_count": null,
      "outputs": []
    }
  ]
}