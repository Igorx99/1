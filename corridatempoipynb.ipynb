{
  "nbformat": 4,
  "nbformat_minor": 0,
  "metadata": {
    "colab": {
      "name": "corridatempoipynb",
      "provenance": [],
      "authorship_tag": "ABX9TyPdQ7MRkF4EsYBAl5Z6whtm",
      "include_colab_link": true
    },
    "kernelspec": {
      "name": "python3",
      "display_name": "Python 3"
    },
    "language_info": {
      "name": "python"
    }
  },
  "cells": [
    {
      "cell_type": "markdown",
      "metadata": {
        "id": "view-in-github",
        "colab_type": "text"
      },
      "source": [
        "<a href=\"https://colab.research.google.com/github/Igorx99/1/blob/main/corridatempoipynb.ipynb\" target=\"_parent\"><img src=\"https://colab.research.google.com/assets/colab-badge.svg\" alt=\"Open In Colab\"/></a>"
      ]
    },
    {
      "cell_type": "code",
      "metadata": {
        "colab": {
          "base_uri": "https://localhost:8080/"
        },
        "id": "GfgwmfqAZAjd",
        "outputId": "685448e8-234c-4bc5-a06e-55c1dd43f737"
      },
      "source": [
        "tb=0\n",
        "tbtotal=0\n",
        "f=0\n",
        "while f<10:\n",
        "  tb= float(input(\"Informe o valor do tempo do  do participante B em segundos: \"))\n",
        "  tbtotal= tbtotal+tb\n",
        "\n",
        "  f=f+1\n",
        "print(\"O tempo total em segundos do particpante B é de: \", tbtotal)\n",
        "tatotal= 0\n",
        "x=0\n",
        "while x<10:\n",
        "  ta= float(input(\" Informe o valor do tempo do particpante A em segundos: \"))\n",
        "  tatotal= tatotal+ta\n",
        "  x=x+1\n",
        "print(\"O tempo total em segundos do particpante A é de:  \",tatotal)\n",
        "if tatotal>tbtotal:\n",
        "  print(\"O particpante A é o vencedor\")\n",
        "elif tbtotal>tatotal:\n",
        "  print(\"O particpante B é o vencedor\")\n",
        "else:\n",
        "  print(\"Os dois particpantes empataram\")"
      ],
      "execution_count": 17,
      "outputs": [
        {
          "output_type": "stream",
          "text": [
            "Informe o valor do tempo do  do participante B em segundos: 2\n",
            "Informe o valor do tempo do  do participante B em segundos: 2\n",
            "Informe o valor do tempo do  do participante B em segundos: 2\n",
            "Informe o valor do tempo do  do participante B em segundos: 2\n",
            "Informe o valor do tempo do  do participante B em segundos: 2\n",
            "Informe o valor do tempo do  do participante B em segundos: 2\n",
            "Informe o valor do tempo do  do participante B em segundos: 2\n",
            "Informe o valor do tempo do  do participante B em segundos: 2\n",
            "Informe o valor do tempo do  do participante B em segundos: 2\n",
            "Informe o valor do tempo do  do participante B em segundos: 2\n",
            "O tempo total em segundos do particpante B é de:  20.0\n",
            " Informe o valor do tempo do particpante A em segundos: 1\n",
            " Informe o valor do tempo do particpante A em segundos: 1\n",
            " Informe o valor do tempo do particpante A em segundos: 1\n",
            " Informe o valor do tempo do particpante A em segundos: 1\n",
            " Informe o valor do tempo do particpante A em segundos: 1\n",
            " Informe o valor do tempo do particpante A em segundos: 1\n",
            " Informe o valor do tempo do particpante A em segundos: 1\n",
            " Informe o valor do tempo do particpante A em segundos: 1\n",
            " Informe o valor do tempo do particpante A em segundos: 1\n",
            " Informe o valor do tempo do particpante A em segundos: 1\n",
            "O tempo total em segundos do particpante A é de:   10.0\n",
            "O particpante B é o vencedor\n"
          ],
          "name": "stdout"
        }
      ]
    }
  ]
}