{
  "nbformat": 4,
  "nbformat_minor": 0,
  "metadata": {
    "colab": {
      "name": "Untitled33.ipynb",
      "provenance": [],
      "authorship_tag": "ABX9TyPWfeJXnAdhZj06zBYLViio",
      "include_colab_link": true
    },
    "kernelspec": {
      "name": "python3",
      "display_name": "Python 3"
    }
  },
  "cells": [
    {
      "cell_type": "markdown",
      "metadata": {
        "id": "view-in-github",
        "colab_type": "text"
      },
      "source": [
        "<a href=\"https://colab.research.google.com/github/Igorx99/1/blob/main/SomaNnumeros.ipynb\" target=\"_parent\"><img src=\"https://colab.research.google.com/assets/colab-badge.svg\" alt=\"Open In Colab\"/></a>"
      ]
    },
    {
      "cell_type": "code",
      "metadata": {
        "colab": {
          "base_uri": "https://localhost:8080/"
        },
        "id": "c0gMh4CkuAGv",
        "outputId": "594cce0c-5ec9-4d9a-f8b1-41f3e126afea"
      },
      "source": [
        "# Somar n números:\r\n",
        "n = int (input(\"Informe a quantidade de números: \"))\r\n",
        "i=0\r\n",
        "som=0\r\n",
        "while i<n:\r\n",
        "    numero= float (input(\"Informe um número para soma: \"))\r\n",
        "    som = som + numero\r\n",
        "    i = i+1\r\n",
        "print(\"O resultado é: \",som)"
      ],
      "execution_count": 2,
      "outputs": [
        {
          "output_type": "stream",
          "text": [
            "Informe a quantidade de números: 3\n",
            "Informe um número para soma: 1\n",
            "Informe um número para soma: 2\n",
            "Informe um número para soma: 3\n",
            "O resultado é:  6.0\n"
          ],
          "name": "stdout"
        }
      ]
    }
  ]
}