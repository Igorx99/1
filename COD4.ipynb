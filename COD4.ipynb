{
  "nbformat": 4,
  "nbformat_minor": 0,
  "metadata": {
    "colab": {
      "name": "Untitled4.ipynb",
      "provenance": [],
      "authorship_tag": "ABX9TyOoYslH/cWK+XiECybPyRLq",
      "include_colab_link": true
    },
    "kernelspec": {
      "name": "python3",
      "display_name": "Python 3"
    }
  },
  "cells": [
    {
      "cell_type": "markdown",
      "metadata": {
        "id": "view-in-github",
        "colab_type": "text"
      },
      "source": [
        "<a href=\"https://colab.research.google.com/github/Igorx99/1/blob/main/COD4.ipynb\" target=\"_parent\"><img src=\"https://colab.research.google.com/assets/colab-badge.svg\" alt=\"Open In Colab\"/></a>"
      ]
    },
    {
      "cell_type": "code",
      "metadata": {
        "colab": {
          "base_uri": "https://localhost:8080/"
        },
        "id": "JtAZ9OJfuvs2",
        "outputId": "ab46bb5e-f054-427e-b01d-d76530623749"
      },
      "source": [
        "import math\r\n",
        "c = float(input(\"Qual é a temperatura em graus celsius?\"))\r\n",
        "f = (9*c/5)+32\r\n",
        "print(\"A temperatura em Farenheit é\",f)"
      ],
      "execution_count": 3,
      "outputs": [
        {
          "output_type": "stream",
          "text": [
            "Qual é a temperatura em graus celsius?5\n",
            "A temperatura em Farenheit é 41.0\n"
          ],
          "name": "stdout"
        }
      ]
    }
  ]
}