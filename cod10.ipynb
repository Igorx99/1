{
  "nbformat": 4,
  "nbformat_minor": 0,
  "metadata": {
    "colab": {
      "name": "Untitled10.ipynb",
      "provenance": [],
      "authorship_tag": "ABX9TyOe5aEJkB+j7QUmiQOjbJwl",
      "include_colab_link": true
    },
    "kernelspec": {
      "name": "python3",
      "display_name": "Python 3"
    }
  },
  "cells": [
    {
      "cell_type": "markdown",
      "metadata": {
        "id": "view-in-github",
        "colab_type": "text"
      },
      "source": [
        "<a href=\"https://colab.research.google.com/github/Igorx99/1/blob/main/cod10.ipynb\" target=\"_parent\"><img src=\"https://colab.research.google.com/assets/colab-badge.svg\" alt=\"Open In Colab\"/></a>"
      ]
    },
    {
      "cell_type": "code",
      "metadata": {
        "colab": {
          "base_uri": "https://localhost:8080/"
        },
        "id": "KI9epGv9qKP7",
        "outputId": "2dbd9399-9d62-44e8-9206-ec7ae2cb3033"
      },
      "source": [
        "n = float (input(\"Digite um número\"))\r\n",
        "if n<0:\r\n",
        "  print(\"O número\",n,\"é negativo\")\r\n",
        "else:\r\n",
        "  print(\"O número\",n,\"é positivo\")"
      ],
      "execution_count": 4,
      "outputs": [
        {
          "output_type": "stream",
          "text": [
            "Digite um número0\n",
            "O número 0.0 é positivo\n"
          ],
          "name": "stdout"
        }
      ]
    }
  ]
}