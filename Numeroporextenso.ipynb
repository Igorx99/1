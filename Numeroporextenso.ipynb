{
  "nbformat": 4,
  "nbformat_minor": 0,
  "metadata": {
    "colab": {
      "name": "Untitled25.ipynb",
      "provenance": [],
      "authorship_tag": "ABX9TyMnOC485y1gOQNLodUaCais",
      "include_colab_link": true
    },
    "kernelspec": {
      "name": "python3",
      "display_name": "Python 3"
    }
  },
  "cells": [
    {
      "cell_type": "markdown",
      "metadata": {
        "id": "view-in-github",
        "colab_type": "text"
      },
      "source": [
        "<a href=\"https://colab.research.google.com/github/Igorx99/1/blob/main/Numeroporextenso.ipynb\" target=\"_parent\"><img src=\"https://colab.research.google.com/assets/colab-badge.svg\" alt=\"Open In Colab\"/></a>"
      ]
    },
    {
      "cell_type": "code",
      "metadata": {
        "colab": {
          "base_uri": "https://localhost:8080/"
        },
        "id": "_njBuiuGusL7",
        "outputId": "17222fe2-52d2-4626-81ee-3cb474eb8bdb"
      },
      "source": [
        "numero = int (input(\"Digite um número entre 0 e 9: \"))\r\n",
        "#Escrever o numero de entrada na saída por exetenso:\r\n",
        "if numero==0:\r\n",
        "  print(numero,\"= Zero\")\r\n",
        "elif numero==1:\r\n",
        "  print(numero,\"= Um\")\r\n",
        "elif numero==2:\r\n",
        "  print(numero,\"= Dois\")\r\n",
        "elif numero==3:\r\n",
        "  print(numero,\"= Três\")\r\n",
        "elif numero==4:\r\n",
        "  print(numero,\"= Quatro\")\r\n",
        "elif numero==5:\r\n",
        "  print(numero,\"= Cinco\")\r\n",
        "elif numero==6:\r\n",
        "  print(numero,\"= Seis\")\r\n",
        "elif numero==7:\r\n",
        "  print(numero,\"= Sete\")\r\n",
        "elif numero==8:\r\n",
        "  print(numero,\"= Oito\")\r\n",
        "elif numero==9:\r\n",
        "  print(numero,\"= Nove\")\r\n",
        "else:\r\n",
        "  print(\"Número Desconhecido.\")\r\n",
        "\r\n",
        "\r\n"
      ],
      "execution_count": 21,
      "outputs": [
        {
          "output_type": "stream",
          "text": [
            "Digite um número entre 0 e 9: 21\n",
            "Número Desconhecido.\n"
          ],
          "name": "stdout"
        }
      ]
    }
  ]
}