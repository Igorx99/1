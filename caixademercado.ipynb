{
  "nbformat": 4,
  "nbformat_minor": 0,
  "metadata": {
    "colab": {
      "name": "Untitled46.ipynb",
      "provenance": [],
      "authorship_tag": "ABX9TyMQCmrWVw35seJXGeWykeI+",
      "include_colab_link": true
    },
    "kernelspec": {
      "name": "python3",
      "display_name": "Python 3"
    },
    "language_info": {
      "name": "python"
    }
  },
  "cells": [
    {
      "cell_type": "markdown",
      "metadata": {
        "id": "view-in-github",
        "colab_type": "text"
      },
      "source": [
        "<a href=\"https://colab.research.google.com/github/Igorx99/1/blob/main/caixademercado.ipynb\" target=\"_parent\"><img src=\"https://colab.research.google.com/assets/colab-badge.svg\" alt=\"Open In Colab\"/></a>"
      ]
    },
    {
      "cell_type": "code",
      "metadata": {
        "colab": {
          "base_uri": "https://localhost:8080/"
        },
        "id": "rm-9_0z3J982",
        "outputId": "0e58a6ed-9be0-46d8-f761-ce8ff1430df3"
      },
      "source": [
        "valor_total=0\n",
        "while True:\n",
        "  p= float (input(\"Informe o valor do produto: \"))\n",
        "  q= int (input(\"Informe a quantidade do produto\"))\n",
        "  valor=p*q\n",
        "  valor_total= valor_total+valor\n",
        "  if p==0:\n",
        "    break\n",
        "print(\"valor total:\",valor_total)"
      ],
      "execution_count": 2,
      "outputs": [
        {
          "output_type": "stream",
          "text": [
            "Informe o valor do produto: 1\n",
            "Informe a quantidade do produto1\n",
            "Informe o valor do produto: 2\n",
            "Informe a quantidade do produto1\n",
            "Informe o valor do produto: 0\n",
            "Informe a quantidade do produto0\n",
            "valor total: 3.0\n"
          ],
          "name": "stdout"
        }
      ]
    }
  ]
}