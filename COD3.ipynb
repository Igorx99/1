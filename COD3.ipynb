{
  "nbformat": 4,
  "nbformat_minor": 0,
  "metadata": {
    "colab": {
      "name": "Untitled3.ipynb",
      "provenance": [],
      "authorship_tag": "ABX9TyPVGRFCVfjYh9Jxetg1q8wW",
      "include_colab_link": true
    },
    "kernelspec": {
      "name": "python3",
      "display_name": "Python 3"
    }
  },
  "cells": [
    {
      "cell_type": "markdown",
      "metadata": {
        "id": "view-in-github",
        "colab_type": "text"
      },
      "source": [
        "<a href=\"https://colab.research.google.com/github/Igorx99/1/blob/main/COD3.ipynb\" target=\"_parent\"><img src=\"https://colab.research.google.com/assets/colab-badge.svg\" alt=\"Open In Colab\"/></a>"
      ]
    },
    {
      "cell_type": "code",
      "metadata": {
        "colab": {
          "base_uri": "https://localhost:8080/"
        },
        "id": "3dRX8whttWPv",
        "outputId": "6a8748fa-eee5-4ceb-9e64-bc74730e73a5"
      },
      "source": [
        "import math\r\n",
        "nota1 = float(input(\"Nota da primeira prova\"))\r\n",
        "nota2 = float(input(\"Nota da segunda prova\"))\r\n",
        "soma = nota1+nota2\r\n",
        "med = soma/2\r\n",
        "print(\"A média é\",med)"
      ],
      "execution_count": null,
      "outputs": [
        {
          "output_type": "stream",
          "text": [
            "Nota da primeira prova5\n",
            "Nota da segunda prova5\n",
            "A média é 5.0\n"
          ],
          "name": "stdout"
        }
      ]
    }
  ]
}