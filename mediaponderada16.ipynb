{
  "nbformat": 4,
  "nbformat_minor": 0,
  "metadata": {
    "colab": {
      "name": "Untitled16.ipynb",
      "provenance": [],
      "authorship_tag": "ABX9TyPhTx9pA169gdF7zfZJXhSa",
      "include_colab_link": true
    },
    "kernelspec": {
      "name": "python3",
      "display_name": "Python 3"
    }
  },
  "cells": [
    {
      "cell_type": "markdown",
      "metadata": {
        "id": "view-in-github",
        "colab_type": "text"
      },
      "source": [
        "<a href=\"https://colab.research.google.com/github/Igorx99/1/blob/main/mediaponderada16.ipynb\" target=\"_parent\"><img src=\"https://colab.research.google.com/assets/colab-badge.svg\" alt=\"Open In Colab\"/></a>"
      ]
    },
    {
      "cell_type": "code",
      "metadata": {
        "colab": {
          "base_uri": "https://localhost:8080/"
        },
        "id": "aON6JH0b1gPm",
        "outputId": "fa9b70ad-ff92-41d2-81b6-3a9e45dd94fb"
      },
      "source": [
        "n1 = float(input(\"Digite a nota 1\"))\r\n",
        "n2 = float(input(\"Digite a nota 2\"))\r\n",
        "n3 = float(input(\"Digite a nota 3\"))\r\n",
        "n4 = float(input(\"Digite a nota 4\"))\r\n",
        "mp= ((n1*1)+(n2*2)+(n3*3)+(n4*4))/10\r\n",
        "print(\"O valor da média ponderada é de\",mp)"
      ],
      "execution_count": 3,
      "outputs": [
        {
          "output_type": "stream",
          "text": [
            "Digite a nota 11\n",
            "Digite a nota 22\n",
            "Digite a nota 33\n",
            "Digite a nota 44\n",
            "O valor da média pondera é de 3.0\n"
          ],
          "name": "stdout"
        }
      ]
    },
    {
      "cell_type": "code",
      "metadata": {
        "id": "GWvW9ukf3RnA"
      },
      "source": [
        ""
      ],
      "execution_count": null,
      "outputs": []
    }
  ]
}