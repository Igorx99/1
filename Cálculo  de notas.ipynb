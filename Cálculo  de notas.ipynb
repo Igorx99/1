{
  "nbformat": 4,
  "nbformat_minor": 0,
  "metadata": {
    "colab": {
      "name": "Untitled13.ipynb",
      "provenance": [],
      "authorship_tag": "ABX9TyOCTDXDarPfGmog1FfF0SMQ",
      "include_colab_link": true
    },
    "kernelspec": {
      "name": "python3",
      "display_name": "Python 3"
    }
  },
  "cells": [
    {
      "cell_type": "markdown",
      "metadata": {
        "id": "view-in-github",
        "colab_type": "text"
      },
      "source": [
        "<a href=\"https://colab.research.google.com/github/Igorx99/1/blob/main/C%C3%A1lculo%20%20de%20notas.ipynb\" target=\"_parent\"><img src=\"https://colab.research.google.com/assets/colab-badge.svg\" alt=\"Open In Colab\"/></a>"
      ]
    },
    {
      "cell_type": "code",
      "metadata": {
        "colab": {
          "base_uri": "https://localhost:8080/"
        },
        "id": "sUHY6ro5A3sm",
        "outputId": "d5bfbcb1-17eb-4c1a-cd83-edb2d15bb431"
      },
      "source": [
        "h = float (input(\"Informe a frequência em horas\"))\r\n",
        "n1 = float (input(\"Informe a nota 1\"))\r\n",
        "n2 = float (input(\"Informe a nota 2\"))\r\n",
        "n3 = float (input(\"Informe a nota 3\"))\r\n",
        "n4 = float (input(\"Informe a nota 4\"))\r\n",
        "med = (n1+n2+n3+n4)/4\r\n",
        "fre = (h*100)/100\r\n",
        "if med>=7 and fre>=75:\r\n",
        "  print(\"Aprovado\")\r\n",
        "else:\r\n",
        "  print(\"Reprovado\")\r\n"
      ],
      "execution_count": 7,
      "outputs": [
        {
          "output_type": "stream",
          "text": [
            "Informe a frequência em horas10\n",
            "Informe a nota 11\n",
            "Informe a nota 22\n",
            "Informe a nota 35\n",
            "Informe a nota 46\n",
            "Reprovado\n"
          ],
          "name": "stdout"
        }
      ]
    }
  ]
}