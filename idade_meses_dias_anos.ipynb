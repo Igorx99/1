{
  "nbformat": 4,
  "nbformat_minor": 0,
  "metadata": {
    "colab": {
      "name": "Untitled22.ipynb",
      "provenance": [],
      "authorship_tag": "ABX9TyM9zdl+G4S2sNE76g4IrEO4",
      "include_colab_link": true
    },
    "kernelspec": {
      "name": "python3",
      "display_name": "Python 3"
    }
  },
  "cells": [
    {
      "cell_type": "markdown",
      "metadata": {
        "id": "view-in-github",
        "colab_type": "text"
      },
      "source": [
        "<a href=\"https://colab.research.google.com/github/Igorx99/1/blob/main/idade_meses_dias_anos.ipynb\" target=\"_parent\"><img src=\"https://colab.research.google.com/assets/colab-badge.svg\" alt=\"Open In Colab\"/></a>"
      ]
    },
    {
      "cell_type": "code",
      "metadata": {
        "colab": {
          "base_uri": "https://localhost:8080/"
        },
        "id": "o47iL7Ysz0lz",
        "outputId": "704af8b8-41cf-40a4-89f3-e72730ab84ce"
      },
      "source": [
        "# 1 ano = 365 dias\r\n",
        "# 1 mes = 30 dias\r\n",
        "idade_em_dias = float (input(\"Insira a idade em dias:  \"))\r\n",
        "qtd_anos= idade_em_dias//365\r\n",
        "resto_por_365 = idade_em_dias%365\r\n",
        "qtd_meses = int (resto_por_365//30)\r\n",
        "qtd_dias = resto_por_365%30\r\n",
        "\r\n",
        "print(qtd_anos,\"Anos\")\r\n",
        "print(qtd_meses,\"Meses\")\r\n",
        "print(qtd_dias,\"Dias\")"
      ],
      "execution_count": 7,
      "outputs": [
        {
          "output_type": "stream",
          "text": [
            "Insira a idade em dias:  5000\n",
            "13.0 Anos\n",
            "8 Meses\n",
            "15.0 Dias\n"
          ],
          "name": "stdout"
        }
      ]
    }
  ]
}
