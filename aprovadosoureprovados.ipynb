{
  "nbformat": 4,
  "nbformat_minor": 0,
  "metadata": {
    "colab": {
      "name": "Untitled42.ipynb",
      "provenance": [],
      "authorship_tag": "ABX9TyNePZibFIYFcsCU57BXBNJK",
      "include_colab_link": true
    },
    "kernelspec": {
      "name": "python3",
      "display_name": "Python 3"
    }
  },
  "cells": [
    {
      "cell_type": "markdown",
      "metadata": {
        "id": "view-in-github",
        "colab_type": "text"
      },
      "source": [
        "<a href=\"https://colab.research.google.com/github/Igorx99/1/blob/main/aprovadosoureprovados.ipynb\" target=\"_parent\"><img src=\"https://colab.research.google.com/assets/colab-badge.svg\" alt=\"Open In Colab\"/></a>"
      ]
    },
    {
      "cell_type": "code",
      "metadata": {
        "id": "374iQJVBij-i"
      },
      "source": [
        "def media(h,n1,n2,n3,n4):\r\n",
        "    med = (n1+n2+n3+n4)/4\r\n",
        "    \r\n",
        "    if med>=7 and h>=75:\r\n",
        "          m= \"Aprovado\"\r\n",
        "    else:\r\n",
        "          m=\"Reprovado\"\r\n",
        "    return m\r\n",
        "\r\n",
        "t =\"sim\"\r\n",
        "a=0\r\n",
        "r=0\r\n",
        "\r\n",
        "while t!=\"não\":\r\n",
        "    h = float (input(\"Informe a frequência em horas: \"))\r\n",
        "    n1 = float (input(\"Informe a nota 1: \"))\r\n",
        "    n2 = float (input(\"Informe a nota 2: \"))\r\n",
        "    n3 = float (input(\"Informe a nota 3: \"))\r\n",
        "    n4 = float (input(\"Informe a nota 4: \"))\r\n",
        "    m= media (h,n1,n2,n3,n4)\r\n",
        "    if m==\"Aprovado\":\r\n",
        "        a=a+1\r\n",
        "    else:\r\n",
        "        r=r+1\r\n",
        "    t = input(\"Registrar novo aluno? \")\r\n",
        "if a>r:\r\n",
        "  print(\"O maior número foi de aprovados.\")\r\n",
        "elif r>a:\r\n",
        "  print(\"O maior número foi de reprovados.\")\r\n",
        "else:\r\n",
        "  print(\"O número de reprovados é igual ao de aprovados.\")\r\n",
        "\r\n",
        "\r\n",
        "\r\n",
        "\r\n"
      ],
      "execution_count": null,
      "outputs": []
    }
  ]
}