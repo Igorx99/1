{
  "nbformat": 4,
  "nbformat_minor": 0,
  "metadata": {
    "colab": {
      "name": "Untitled45.ipynb",
      "provenance": [],
      "authorship_tag": "ABX9TyP+Ph8mW5PVcwXaHQ1lsPbd",
      "include_colab_link": true
    },
    "kernelspec": {
      "name": "python3",
      "display_name": "Python 3"
    },
    "language_info": {
      "name": "python"
    }
  },
  "cells": [
    {
      "cell_type": "markdown",
      "metadata": {
        "id": "view-in-github",
        "colab_type": "text"
      },
      "source": [
        "<a href=\"https://colab.research.google.com/github/Igorx99/1/blob/main/numerodeprofissionais.ipynb\" target=\"_parent\"><img src=\"https://colab.research.google.com/assets/colab-badge.svg\" alt=\"Open In Colab\"/></a>"
      ]
    },
    {
      "cell_type": "code",
      "metadata": {
        "colab": {
          "base_uri": "https://localhost:8080/"
        },
        "id": "5bA7H8B7Fng7",
        "outputId": "d3356433-941f-4732-85ec-76f12d99ce1a"
      },
      "source": [
        "n=20\n",
        "i=0\n",
        "g=0\n",
        "e=0\n",
        "c=0\n",
        "a=0\n",
        "while i<n:\n",
        "  \n",
        "  fun= input(\"Informe a função desempenhada: \")\n",
        "  sal= float (input(\"Informe o salário atual: \"))\n",
        "  if fun==\"gestor\":\n",
        "    sal= (sal*5)/100\n",
        "    g= g+1\n",
        "    print(\"O reajuste do gestor\",g,\"foi de R$\",sal)\n",
        "  elif fun==\"engenheiro\":\n",
        "    sal= (sal*10)/100\n",
        "    e=e+1\n",
        "    print(\"O reajuste do engenheiro\",e,\"foi de R$\",sal)\n",
        "  elif fun==\"técnico\":\n",
        "    sal= (sal*15)/100\n",
        "    c=c+1\n",
        "    print(\"O reajuste do técnico\",c,\"foi de R$\",sal)\n",
        "  elif fun==\"administrativo\":\n",
        "    sal= (sal*15)/100\n",
        "    a=a+1\n",
        "    print(\"O reajuste do administrativo\",a,\"foi de R$\",sal)\n",
        "  else:\n",
        "    print(\"Função desconhecida.\")\n",
        "  i=i+1\n",
        "print(\"Número de gestores: \",g)\n",
        "print(\"Número de engenheiros: \",e)\n",
        "print(\"Número de técnicos: \",c)\n",
        "print(\"Número de administrativos: \",a)"
      ],
      "execution_count": 3,
      "outputs": [
        {
          "output_type": "stream",
          "text": [
            "Informe a função desempenhada: gestor\n",
            "Informe o salário atual: 2\n",
            "O reajuste do gestor 1 foi de R$ 0.1\n",
            "Informe a função desempenhada: engenheiro\n",
            "Informe o salário atual: 2\n",
            "O reajuste do engenheiro 1 foi de R$ 0.2\n",
            "Informe a função desempenhada: técnico\n",
            "Informe o salário atual: 3\n",
            "O reajuste do técnico 1 foi de R$ 0.45\n",
            "Informe a função desempenhada: administrativo\n",
            "Informe o salário atual: 3\n",
            "O reajuste do administrativo 1 foi de R$ 4.53\n",
            "Informe a função desempenhada: d\n",
            "Informe o salário atual: 3\n",
            "Função desconhecida.\n",
            "Informe a função desempenhada: d\n",
            "Informe o salário atual: 3\n",
            "Função desconhecida.\n",
            "Informe a função desempenhada: d\n",
            "Informe o salário atual: 0\n",
            "Função desconhecida.\n",
            "Informe a função desempenhada: d\n",
            "Informe o salário atual: 0\n",
            "Função desconhecida.\n",
            "Informe a função desempenhada: s\n",
            "Informe o salário atual: 0\n",
            "Função desconhecida.\n",
            "Informe a função desempenhada: d\n",
            "Informe o salário atual: 0\n",
            "Função desconhecida.\n",
            "Informe a função desempenhada: d\n",
            "Informe o salário atual: 0\n",
            "Função desconhecida.\n",
            "Informe a função desempenhada: d\n",
            "Informe o salário atual: 0\n",
            "Função desconhecida.\n",
            "Informe a função desempenhada: f\n",
            "Informe o salário atual: 0\n",
            "Função desconhecida.\n",
            "Informe a função desempenhada: d\n",
            "Informe o salário atual: 0\n",
            "Função desconhecida.\n",
            "Informe a função desempenhada: d\n",
            "Informe o salário atual: 0\n",
            "Função desconhecida.\n",
            "Informe a função desempenhada: s\n",
            "Informe o salário atual: 0\n",
            "Função desconhecida.\n",
            "Informe a função desempenhada: f\n",
            "Informe o salário atual: 0\n",
            "Função desconhecida.\n",
            "Informe a função desempenhada: f\n",
            "Informe o salário atual: 0\n",
            "Função desconhecida.\n",
            "Informe a função desempenhada: s\n",
            "Informe o salário atual: 0\n",
            "Função desconhecida.\n",
            "Informe a função desempenhada: z\n",
            "Informe o salário atual: 0\n",
            "Função desconhecida.\n",
            "Número de gestores:  1\n",
            "Número de engenheiros:  1\n",
            "Número de técnicos:  1\n",
            "Número de administrativos:  1\n"
          ],
          "name": "stdout"
        }
      ]
    }
  ]
}