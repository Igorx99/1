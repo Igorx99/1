{
  "nbformat": 4,
  "nbformat_minor": 0,
  "metadata": {
    "colab": {
      "name": "Untitled2.ipynb",
      "provenance": [],
      "authorship_tag": "ABX9TyN2QLt6171fLRdJbR/zeeOI",
      "include_colab_link": true
    },
    "kernelspec": {
      "name": "python3",
      "display_name": "Python 3"
    }
  },
  "cells": [
    {
      "cell_type": "markdown",
      "metadata": {
        "id": "view-in-github",
        "colab_type": "text"
      },
      "source": [
        "<a href=\"https://colab.research.google.com/github/Igorx99/1/blob/main/COD2.ipynb\" target=\"_parent\"><img src=\"https://colab.research.google.com/assets/colab-badge.svg\" alt=\"Open In Colab\"/></a>"
      ]
    },
    {
      "cell_type": "code",
      "metadata": {
        "colab": {
          "base_uri": "https://localhost:8080/"
        },
        "id": "I8JjV3L0nzVu",
        "outputId": "ff64593d-3ff9-4a2a-90ad-94f3b49f5f68"
      },
      "source": [
        "import math\r\n",
        "n1 = float(input(\"Informe o primeiro número\"))\r\n",
        "n2 = float(input(\"Informe o segundo número\"))\r\n",
        "soma = n1+n2\r\n",
        "n3 = float(input(\"Informe o fator\"))\r\n",
        "mult= soma*n3\r\n",
        "print(\"O resultado é\",mult)"
      ],
      "execution_count": null,
      "outputs": [
        {
          "output_type": "stream",
          "text": [
            "Informe o primeiro número2\n",
            "Informe o segundo número3\n",
            "Informe o fator3\n",
            "O resultado é 15.0\n"
          ],
          "name": "stdout"
        }
      ]
    }
  ]
}