{
  "nbformat": 4,
  "nbformat_minor": 0,
  "metadata": {
    "colab": {
      "name": "Untitled1.ipynb",
      "provenance": [],
      "authorship_tag": "ABX9TyPjrU7SsINzqgqz1sTikaSf",
      "include_colab_link": true
    },
    "kernelspec": {
      "name": "python3",
      "display_name": "Python 3"
    }
  },
  "cells": [
    {
      "cell_type": "markdown",
      "metadata": {
        "id": "view-in-github",
        "colab_type": "text"
      },
      "source": [
        "<a href=\"https://colab.research.google.com/github/Igorx99/1/blob/main/COD1.ipynb\" target=\"_parent\"><img src=\"https://colab.research.google.com/assets/colab-badge.svg\" alt=\"Open In Colab\"/></a>"
      ]
    },
    {
      "cell_type": "code",
      "metadata": {
        "id": "Q3E084GLgxxg",
        "colab": {
          "base_uri": "https://localhost:8080/"
        },
        "outputId": "4e4354ee-b48d-424a-89ab-c582b76fcd53"
      },
      "source": [
        "import math\r\n",
        "raio = float(input(\"informe o raio\"))\r\n",
        "perimetro=2*math.pi*raio\r\n",
        "print(\"O perimetro é de\",perimetro)"
      ],
      "execution_count": null,
      "outputs": [
        {
          "output_type": "stream",
          "text": [
            "informe o raio2\n",
            "O perimetro é de 12.566370614359172\n"
          ],
          "name": "stdout"
        }
      ]
    }
  ]
}