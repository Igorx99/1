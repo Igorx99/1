{
  "nbformat": 4,
  "nbformat_minor": 0,
  "metadata": {
    "colab": {
      "name": "Untitled47.ipynb",
      "provenance": [],
      "authorship_tag": "ABX9TyObiq0y3dtzmHoJq00qsRl/",
      "include_colab_link": true
    },
    "kernelspec": {
      "name": "python3",
      "display_name": "Python 3"
    },
    "language_info": {
      "name": "python"
    }
  },
  "cells": [
    {
      "cell_type": "markdown",
      "metadata": {
        "id": "view-in-github",
        "colab_type": "text"
      },
      "source": [
        "<a href=\"https://colab.research.google.com/github/Igorx99/1/blob/main/caixaeletronico.ipynb\" target=\"_parent\"><img src=\"https://colab.research.google.com/assets/colab-badge.svg\" alt=\"Open In Colab\"/></a>"
      ]
    },
    {
      "cell_type": "code",
      "metadata": {
        "colab": {
          "base_uri": "https://localhost:8080/"
        },
        "id": "snkXIFQxowcx",
        "outputId": "f73cadad-85e8-4437-c726-1abed630bad1"
      },
      "source": [
        "#exercicio 1 :\n",
        "#acumulador\n",
        "#codigo1=deposito\n",
        "#codigo2=saque\n",
        "#codigo3=extrato\n",
        "#codigo4=sair\n",
        "saldo=0\n",
        "\n",
        "#i=1\n",
        "#operação= int (input(\"Informe a operação\\n opções 1,2,3, 4:\"))\n",
        "while True:\n",
        "  operação= int (input(\"Informe a operação\\n opções 1,2,3, 4:\"))\n",
        "  if operação==1:\n",
        "      valor=int (input(\"Informe o valor a ser depositado:\"))\n",
        "      saldo=saldo+valor\n",
        "      \n",
        "    \n",
        "  elif operação==2:\n",
        "        valor1=int (input(\"informe o valor a ser sacado:\"))\n",
        "        saldo=saldo-valor1\n",
        "        \n",
        "  elif operação==3:\n",
        "      print(\"O Saldo total atual é de:\",saldo)\n",
        "  elif operação==4:\n",
        "      break"
      ],
      "execution_count": 17,
      "outputs": [
        {
          "output_type": "stream",
          "text": [
            "Informe a operação\n",
            " opções 1,2,3, 4:1\n",
            "Informe o valor a ser depositado:100\n",
            "Informe a operação\n",
            " opções 1,2,3, 4:2\n",
            "informe o valor a ser sacado:50\n",
            "Informe a operação\n",
            " opções 1,2,3, 4:3\n",
            "O Saldo total atual é de: 50\n",
            "Informe a operação\n",
            " opções 1,2,3, 4:4\n"
          ],
          "name": "stdout"
        }
      ]
    }
  ]
}