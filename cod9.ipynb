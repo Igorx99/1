{
  "nbformat": 4,
  "nbformat_minor": 0,
  "metadata": {
    "colab": {
      "name": "Untitled9.ipynb",
      "provenance": [],
      "authorship_tag": "ABX9TyMRpsUYZkHSL9Zqg5bZUWEx",
      "include_colab_link": true
    },
    "kernelspec": {
      "name": "python3",
      "display_name": "Python 3"
    }
  },
  "cells": [
    {
      "cell_type": "markdown",
      "metadata": {
        "id": "view-in-github",
        "colab_type": "text"
      },
      "source": [
        "<a href=\"https://colab.research.google.com/github/Igorx99/1/blob/main/cod9.ipynb\" target=\"_parent\"><img src=\"https://colab.research.google.com/assets/colab-badge.svg\" alt=\"Open In Colab\"/></a>"
      ]
    },
    {
      "cell_type": "code",
      "metadata": {
        "colab": {
          "base_uri": "https://localhost:8080/"
        },
        "id": "PP0cHWOLkjOR",
        "outputId": "78c780b2-a4a5-4556-dfe7-4bbc9ef636a1"
      },
      "source": [
        "temperatura = float (input(\"Informe a temperatura\"))\r\n",
        "if temperatura >=60 and temperatura <=70:\r\n",
        "  print(\"A temperatura de\",temperatura,\"°C é ideal\")\r\n",
        "else:\r\n",
        "  print(\"A temperatura de\",temperatura,\"°C não é ideal\")\r\n"
      ],
      "execution_count": 11,
      "outputs": [
        {
          "output_type": "stream",
          "text": [
            "Informe a temperatura4\n",
            "A temperatura de 4.0 °C não é ideal\n"
          ],
          "name": "stdout"
        }
      ]
    }
  ]
}