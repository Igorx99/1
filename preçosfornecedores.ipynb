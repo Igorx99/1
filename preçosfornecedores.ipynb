{
  "nbformat": 4,
  "nbformat_minor": 0,
  "metadata": {
    "colab": {
      "name": "Untitled43.ipynb",
      "provenance": [],
      "authorship_tag": "ABX9TyOaqh2ZORqfGipOijH2wlr1",
      "include_colab_link": true
    },
    "kernelspec": {
      "name": "python3",
      "display_name": "Python 3"
    },
    "language_info": {
      "name": "python"
    }
  },
  "cells": [
    {
      "cell_type": "markdown",
      "metadata": {
        "id": "view-in-github",
        "colab_type": "text"
      },
      "source": [
        "<a href=\"https://colab.research.google.com/github/Igorx99/1/blob/main/pre%C3%A7osfornecedores.ipynb\" target=\"_parent\"><img src=\"https://colab.research.google.com/assets/colab-badge.svg\" alt=\"Open In Colab\"/></a>"
      ]
    },
    {
      "cell_type": "code",
      "metadata": {
        "colab": {
          "base_uri": "https://localhost:8080/"
        },
        "id": "IqmNTMmLu4wi",
        "outputId": "11ea2516-3a2d-486e-ebab-f63589b448e6"
      },
      "source": [
        "valor_a=0\n",
        "valor_b=0\n",
        "valor1=0\n",
        "valor2=0\n",
        "\n",
        "while True :\n",
        "  valor1= float (input(\"Informe o valor do item do fornecedor A: \"))\n",
        "  valor_a=valor_a+valor1\n",
        "  if valor1==0:\n",
        "    break\n",
        "  \n",
        "  \n",
        "while True:\n",
        "  valor2= float (input(\"Informe o valor do item do fornecedor b: \"))\n",
        "  valor_b=valor_b+valor2\n",
        "  if valor2==0:\n",
        "    break\n",
        "if valor_a<valor_b:\n",
        "  print(\"O fornecedor A tem preços mais baixos que o fornecedor B. \")\n",
        "elif valor_b<valor_a:\n",
        "  print(\"O fornecedor B tem preços mais baixos que o fornecedor A. \")\n",
        "else:\n",
        " print(\"Os dois fornecedores tem o mesmo preço. \")\n",
        "  \n",
        "\n"
      ],
      "execution_count": 21,
      "outputs": [
        {
          "output_type": "stream",
          "text": [
            "Informe o valor do item do fornecedor A: 5\n",
            "Informe o valor do item do fornecedor A: 5\n",
            "Informe o valor do item do fornecedor A: 5\n",
            "Informe o valor do item do fornecedor A: 0\n",
            "Informe o valor do item do fornecedor b: 5\n",
            "Informe o valor do item do fornecedor b: 5\n",
            "Informe o valor do item do fornecedor b: 5\n",
            "Informe o valor do item do fornecedor b: 0\n",
            "Os dois fornecedores tem o mesmo preço. \n"
          ],
          "name": "stdout"
        }
      ]
    }
  ]
}