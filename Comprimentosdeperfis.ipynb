{
  "nbformat": 4,
  "nbformat_minor": 0,
  "metadata": {
    "colab": {
      "name": "Comprimentosdeperfis",
      "provenance": [],
      "authorship_tag": "ABX9TyORwVDnP+r3fut7mJAxycKo",
      "include_colab_link": true
    },
    "kernelspec": {
      "name": "python3",
      "display_name": "Python 3"
    },
    "language_info": {
      "name": "python"
    }
  },
  "cells": [
    {
      "cell_type": "markdown",
      "metadata": {
        "id": "view-in-github",
        "colab_type": "text"
      },
      "source": [
        "<a href=\"https://colab.research.google.com/github/Igorx99/1/blob/main/Comprimentosdeperfis.ipynb\" target=\"_parent\"><img src=\"https://colab.research.google.com/assets/colab-badge.svg\" alt=\"Open In Colab\"/></a>"
      ]
    },
    {
      "cell_type": "code",
      "execution_count": null,
      "metadata": {
        "id": "kmMbjgveDBDY"
      },
      "outputs": [],
      "source": [
        "defa = 0\n",
        "defb = 0\n",
        "while True:\n",
        "  tipo=input(\"Informe o tipo de perfil A ou B: \\n(Ou para finalizar digite C) \")\n",
        "  if tipo==\"A\":\n",
        "    dim1= float(input(\"Informe o comprimento do Perfil A: \"))\n",
        "    if dim1 !=100:\n",
        "       defa = defa+1\n",
        "  elif tipo == \"B\":\n",
        "    dim2 = float(input(\"Informe o comprimento do Perfil B: \"))\n",
        "    if dim2 !=100:\n",
        "      defb = defb+1\n",
        "  elif tipo==\"C\":\n",
        "      break\n",
        "print(\"O número de defeitos em perfis A é: \",defa)\n",
        "print(\"O número de feitos em perfis B é:\",defb)\n",
        "     \n"
      ]
    }
  ]
}