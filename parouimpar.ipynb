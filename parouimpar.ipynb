{
  "nbformat": 4,
  "nbformat_minor": 0,
  "metadata": {
    "colab": {
      "name": "Untitled38.ipynb",
      "provenance": [],
      "authorship_tag": "ABX9TyNAO0JVwDYWd8kNms6uU0pF",
      "include_colab_link": true
    },
    "kernelspec": {
      "name": "python3",
      "display_name": "Python 3"
    }
  },
  "cells": [
    {
      "cell_type": "markdown",
      "metadata": {
        "id": "view-in-github",
        "colab_type": "text"
      },
      "source": [
        "<a href=\"https://colab.research.google.com/github/Igorx99/1/blob/main/parouimpar.ipynb\" target=\"_parent\"><img src=\"https://colab.research.google.com/assets/colab-badge.svg\" alt=\"Open In Colab\"/></a>"
      ]
    },
    {
      "cell_type": "code",
      "metadata": {
        "id": "NbBvXpdpZPxr"
      },
      "source": [
        "#Número é par ou ímpar:\r\n",
        "n = int (input(\"Informe a quantidade de números a serem analisados: \"))\r\n",
        "l=0\r\n",
        "while l<n:\r\n",
        "    f= float(input(\"Digite o número a ser analisado: \"))\r\n",
        "    if f%2==0:\r\n",
        "      print(f,\"é um número par.\")\r\n",
        "    else:\r\n",
        "      print(f,\"é um número ímpar.\")\r\n",
        "    l=l+1"
      ],
      "execution_count": null,
      "outputs": []
    }
  ]
}