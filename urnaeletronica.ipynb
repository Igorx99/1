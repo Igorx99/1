{
  "nbformat": 4,
  "nbformat_minor": 0,
  "metadata": {
    "colab": {
      "name": "Untitled40.ipynb",
      "provenance": [],
      "authorship_tag": "ABX9TyN+D16b42RNHc253PEwuNI0",
      "include_colab_link": true
    },
    "kernelspec": {
      "name": "python3",
      "display_name": "Python 3"
    }
  },
  "cells": [
    {
      "cell_type": "markdown",
      "metadata": {
        "id": "view-in-github",
        "colab_type": "text"
      },
      "source": [
        "<a href=\"https://colab.research.google.com/github/Igorx99/1/blob/main/urnaeletronica.ipynb\" target=\"_parent\"><img src=\"https://colab.research.google.com/assets/colab-badge.svg\" alt=\"Open In Colab\"/></a>"
      ]
    },
    {
      "cell_type": "code",
      "metadata": {
        "colab": {
          "base_uri": "https://localhost:8080/",
          "height": 129
        },
        "id": "2wFhIbYYrpTR",
        "outputId": "0ef22f78-fdde-4012-e0d5-6ebff6758688"
      },
      "source": [
        "n = int (input(\"Digite o número de seu candidato: \")\r\n",
        "f=0\r\n",
        "a=0\r\n",
        "b=0\r\n",
        "c=0\r\n",
        "d=0\r\n",
        "br=0\r\n",
        "nu=0\r\n",
        "\r\n",
        "while n!=0 and w<10:\r\n",
        "    if n=1:\r\n",
        "      a=a+1\r\n",
        "    elif n=2:\r\n",
        "     b=b+1\r\n",
        "    elif n=3:\r\n",
        "      c=c+1\r\n",
        "    elif n=4:\r\n",
        "      d=d+1\r\n",
        "    elif n=5:\r\n",
        "      br=br+1\r\n",
        "    elif n=6:\r\n",
        "      nu=nu+1\r\n",
        "    f=f+1\r\n",
        "print(\"Candidato A:\",a)\r\n",
        "print(\"Candidato B:\",b)\r\n",
        "print(\"Candidato C:\",c)\r\n",
        "print(\"Brancos:\",br)\r\n",
        "print(\"Nulos:\",nu)\r\n",
        "    \r\n"
      ],
      "execution_count": 6,
      "outputs": [
        {
          "output_type": "error",
          "ename": "SyntaxError",
          "evalue": "ignored",
          "traceback": [
            "\u001b[0;36m  File \u001b[0;32m\"<ipython-input-6-a34c67bc98ba>\"\u001b[0;36m, line \u001b[0;32m2\u001b[0m\n\u001b[0;31m    f=0\u001b[0m\n\u001b[0m    ^\u001b[0m\n\u001b[0;31mSyntaxError\u001b[0m\u001b[0;31m:\u001b[0m invalid syntax\n"
          ]
        }
      ]
    }
  ]
}