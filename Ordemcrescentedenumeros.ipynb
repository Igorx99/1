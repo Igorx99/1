{
  "nbformat": 4,
  "nbformat_minor": 0,
  "metadata": {
    "colab": {
      "name": "Untitled26.ipynb",
      "provenance": [],
      "authorship_tag": "ABX9TyME7/jTaat+OMo1KTw32ZB9",
      "include_colab_link": true
    },
    "kernelspec": {
      "name": "python3",
      "display_name": "Python 3"
    }
  },
  "cells": [
    {
      "cell_type": "markdown",
      "metadata": {
        "id": "view-in-github",
        "colab_type": "text"
      },
      "source": [
        "<a href=\"https://colab.research.google.com/github/Igorx99/1/blob/main/Ordemcrescentedenumeros.ipynb\" target=\"_parent\"><img src=\"https://colab.research.google.com/assets/colab-badge.svg\" alt=\"Open In Colab\"/></a>"
      ]
    },
    {
      "cell_type": "code",
      "metadata": {
        "id": "jZuhZl68zI29"
      },
      "source": [
        "a = float (input(\"Informe o primeiro número: \"))\r\n",
        "b = float (input(\"Informe o segundo número: \"))\r\n",
        "c = float (input(\"Informe o terceiro número: \"))\r\n",
        "# Para quando a sempre for maior que b e c:\r\n",
        "if  b<a>c:\r\n",
        "  if b>c:\r\n",
        "    print(\"A ordem crescente é:\",c,b,a)\r\n",
        "  else:\r\n",
        "    print(\"A ordem crescente é:\",b,c,a)\r\n",
        "# Para quando b for sempre maior que a e c:\r\n",
        "elif a<b>c:\r\n",
        "  if a>c:\r\n",
        "    print(\"A ordem crescente é:\",c,a,b)\r\n",
        "  else:\r\n",
        "    print(\"A ordem crescente é:\",a,c,b)\r\n",
        "# Para quando c for sempre maior que a e b:\r\n",
        "elif a<c>b:\r\n",
        "  if a>b:\r\n",
        "    print(\"A ordem crescente é:\",b,a,c)\r\n",
        "  else:\r\n",
        "    print(\"A ordem crescente é:\",a,b,c)\r\n",
        "# Para quando a, b e c forem iguais:\r\n",
        "else:\r\n",
        "  print(\"Os números são iguais:\",a,b,c)\r\n",
        "\r\n"
      ],
      "execution_count": null,
      "outputs": []
    }
  ]
}