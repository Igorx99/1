{
  "nbformat": 4,
  "nbformat_minor": 0,
  "metadata": {
    "colab": {
      "name": "Untitled35.ipynb",
      "provenance": [],
      "authorship_tag": "ABX9TyMvF0/2sSqEYPzf9lbsKhM1",
      "include_colab_link": true
    },
    "kernelspec": {
      "name": "python3",
      "display_name": "Python 3"
    }
  },
  "cells": [
    {
      "cell_type": "markdown",
      "metadata": {
        "id": "view-in-github",
        "colab_type": "text"
      },
      "source": [
        "<a href=\"https://colab.research.google.com/github/Igorx99/1/blob/main/sistemadevaloresbreak.ipynb\" target=\"_parent\"><img src=\"https://colab.research.google.com/assets/colab-badge.svg\" alt=\"Open In Colab\"/></a>"
      ]
    },
    {
      "cell_type": "code",
      "metadata": {
        "colab": {
          "base_uri": "https://localhost:8080/"
        },
        "id": "hR1U0wzs36JV",
        "outputId": "b5f2f9db-ef70-462c-dd66-5a5032814fb6"
      },
      "source": [
        "valor_total=0\r\n",
        "while True:\r\n",
        "    valor = float(input(\"Informe um valor: \"))\r\n",
        "    if valor==0:\r\n",
        "        break\r\n",
        "    valor_total= valor_total+valor\r\n",
        "    print(\"Subtotal: \",valor_total)\r\n",
        "print(\"Valor total:\",valor_total)"
      ],
      "execution_count": 5,
      "outputs": [
        {
          "output_type": "stream",
          "text": [
            "Informe um valor: 2\n",
            "Subtotal:  2.0\n",
            "Informe um valor: 4\n",
            "Subtotal:  6.0\n",
            "Informe um valor: 5\n",
            "Subtotal:  11.0\n",
            "Informe um valor: 0\n",
            "Valor total: 11.0\n"
          ],
          "name": "stdout"
        }
      ]
    }
  ]
}