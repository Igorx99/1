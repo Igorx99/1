{
  "nbformat": 4,
  "nbformat_minor": 0,
  "metadata": {
    "colab": {
      "name": "Untitled24.ipynb",
      "provenance": [],
      "authorship_tag": "ABX9TyOd1whSopP0m9SoR0dDTAgz",
      "include_colab_link": true
    },
    "kernelspec": {
      "name": "python3",
      "display_name": "Python 3"
    }
  },
  "cells": [
    {
      "cell_type": "markdown",
      "metadata": {
        "id": "view-in-github",
        "colab_type": "text"
      },
      "source": [
        "<a href=\"https://colab.research.google.com/github/Igorx99/1/blob/main/salariocomcomissao.ipynb\" target=\"_parent\"><img src=\"https://colab.research.google.com/assets/colab-badge.svg\" alt=\"Open In Colab\"/></a>"
      ]
    },
    {
      "cell_type": "code",
      "metadata": {
        "colab": {
          "base_uri": "https://localhost:8080/"
        },
        "id": "f85fTsAlpqo1",
        "outputId": "a4dd4394-a212-432c-8933-2f4f835ad0ff"
      },
      "source": [
        "sal = float (input(\"Informe o valor mensal do salário: \"))\r\n",
        "total_vendas = float (input(\"Informe o valor total de vendas: \"))\r\n",
        "\r\n",
        "#Dependendo do valor total de vendas, o valor da comissão será de 10% ou 5%:\r\n",
        "if total_vendas>=1000:\r\n",
        "  salario = sal+(total_vendas*10/100)\r\n",
        "  print(\"Seu salário total é de: R$\",salario)\r\n",
        "else:\r\n",
        "  salario2 = sal+(total_vendas*5/100)\r\n",
        "  print(\"Seu salário total é de: R$\",salario2)"
      ],
      "execution_count": 8,
      "outputs": [
        {
          "output_type": "stream",
          "text": [
            "Informe o valor mensal do salário: 900\n",
            "Informe o valor total de vendas: 900\n",
            "Seu salário total é de: R$ 945.0\n"
          ],
          "name": "stdout"
        }
      ]
    }
  ]
}