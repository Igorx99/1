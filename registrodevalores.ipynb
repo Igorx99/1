{
  "nbformat": 4,
  "nbformat_minor": 0,
  "metadata": {
    "colab": {
      "name": "Untitled34.ipynb",
      "provenance": [],
      "authorship_tag": "ABX9TyOxuaYyUk7y9sucuAFoPDg3",
      "include_colab_link": true
    },
    "kernelspec": {
      "name": "python3",
      "display_name": "Python 3"
    }
  },
  "cells": [
    {
      "cell_type": "markdown",
      "metadata": {
        "id": "view-in-github",
        "colab_type": "text"
      },
      "source": [
        "<a href=\"https://colab.research.google.com/github/Igorx99/1/blob/main/registrodevalores.ipynb\" target=\"_parent\"><img src=\"https://colab.research.google.com/assets/colab-badge.svg\" alt=\"Open In Colab\"/></a>"
      ]
    },
    {
      "cell_type": "code",
      "metadata": {
        "colab": {
          "base_uri": "https://localhost:8080/"
        },
        "id": "uTLNECeqw2l5",
        "outputId": "02d12eb9-a7b6-4e37-e45c-a8d6d823c3d5"
      },
      "source": [
        "valor = float (input(\"Informe o valor: \"))\r\n",
        "valor_total = 0\r\n",
        "while valor!=0:\r\n",
        "    valor_total= valor_total+valor\r\n",
        "    print(\"Subtotal: \",valor_total)\r\n",
        "    valor= float(input(\"Informe um valor: \"))\r\n",
        "print(\"O valor total é: \",valor_total)\r\n",
        "    "
      ],
      "execution_count": 2,
      "outputs": [
        {
          "output_type": "stream",
          "text": [
            "Informe o valor: 2\n",
            "Subtotal:  2.0\n",
            "Informe um valor: 3\n",
            "Subtotal:  5.0\n",
            "Informe um valor: 2\n",
            "Subtotal:  7.0\n",
            "Informe um valor: 0\n",
            "O valor total é:  7.0\n"
          ],
          "name": "stdout"
        }
      ]
    }
  ]
}